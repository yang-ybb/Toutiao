{
 "cells": [
  {
   "cell_type": "code",
   "execution_count": 1,
   "metadata": {},
   "outputs": [],
   "source": [
    "import pandas as pd\n",
    "import numpy as np\n",
    "import spacy\n",
    "from tqdm import tqdm\n",
    "import re\n",
    "import time\n",
    "import pickle\n",
    "pd.set_option('display.max_colwidth', 200)"
   ]
  },
  {
   "cell_type": "code",
   "execution_count": 2,
   "metadata": {},
   "outputs": [],
   "source": [
    "# read data\n",
    "train = pd.read_csv(\"train_2kmZucJ.csv\")\n",
    "test = pd.read_csv(\"test_oJQbWVk.csv\")"
   ]
  },
  {
   "cell_type": "code",
   "execution_count": 3,
   "metadata": {},
   "outputs": [
    {
     "data": {
      "text/plain": [
       "((7920, 3), (1953, 2))"
      ]
     },
     "execution_count": 3,
     "metadata": {},
     "output_type": "execute_result"
    }
   ],
   "source": [
    "train.shape, test.shape"
   ]
  },
  {
   "cell_type": "code",
   "execution_count": 4,
   "metadata": {},
   "outputs": [
    {
     "data": {
      "text/plain": [
       "0    0.744192\n",
       "1    0.255808\n",
       "Name: label, dtype: float64"
      ]
     },
     "execution_count": 4,
     "metadata": {},
     "output_type": "execute_result"
    }
   ],
   "source": [
    "train['label'].value_counts(normalize = True)"
   ]
  },
  {
   "cell_type": "code",
   "execution_count": 5,
   "metadata": {},
   "outputs": [
    {
     "data": {
      "text/html": [
       "<div>\n",
       "<style scoped>\n",
       "    .dataframe tbody tr th:only-of-type {\n",
       "        vertical-align: middle;\n",
       "    }\n",
       "\n",
       "    .dataframe tbody tr th {\n",
       "        vertical-align: top;\n",
       "    }\n",
       "\n",
       "    .dataframe thead th {\n",
       "        text-align: right;\n",
       "    }\n",
       "</style>\n",
       "<table border=\"1\" class=\"dataframe\">\n",
       "  <thead>\n",
       "    <tr style=\"text-align: right;\">\n",
       "      <th></th>\n",
       "      <th>id</th>\n",
       "      <th>label</th>\n",
       "      <th>tweet</th>\n",
       "    </tr>\n",
       "  </thead>\n",
       "  <tbody>\n",
       "    <tr>\n",
       "      <th>0</th>\n",
       "      <td>1</td>\n",
       "      <td>0</td>\n",
       "      <td>#fingerprint #Pregnancy Test https://goo.gl/h1MfQV #android #apps #beautiful #cute #health #igers #iphoneonly #iphonesia #iphone</td>\n",
       "    </tr>\n",
       "    <tr>\n",
       "      <th>1</th>\n",
       "      <td>2</td>\n",
       "      <td>0</td>\n",
       "      <td>Finally a transparant silicon case ^^ Thanks to my uncle :) #yay #Sony #Xperia #S #sonyexperias… http://instagram.com/p/YGEt5JC6JM/</td>\n",
       "    </tr>\n",
       "    <tr>\n",
       "      <th>2</th>\n",
       "      <td>3</td>\n",
       "      <td>0</td>\n",
       "      <td>We love this! Would you go? #talk #makememories #unplug #relax #iphone #smartphone #wifi #connect... http://fb.me/6N3LsUpCu</td>\n",
       "    </tr>\n",
       "    <tr>\n",
       "      <th>3</th>\n",
       "      <td>4</td>\n",
       "      <td>0</td>\n",
       "      <td>I'm wired I know I'm George I was made that way ;) #iphone #cute #daventry #home http://instagr.am/p/Li_5_ujS4k/</td>\n",
       "    </tr>\n",
       "    <tr>\n",
       "      <th>4</th>\n",
       "      <td>5</td>\n",
       "      <td>1</td>\n",
       "      <td>What amazing service! Apple won't even talk to me about a question I have unless I pay them $19.95 for their stupid support!</td>\n",
       "    </tr>\n",
       "  </tbody>\n",
       "</table>\n",
       "</div>"
      ],
      "text/plain": [
       "   id  label  \\\n",
       "0   1      0   \n",
       "1   2      0   \n",
       "2   3      0   \n",
       "3   4      0   \n",
       "4   5      1   \n",
       "\n",
       "                                                                                                                                 tweet  \n",
       "0     #fingerprint #Pregnancy Test https://goo.gl/h1MfQV #android #apps #beautiful #cute #health #igers #iphoneonly #iphonesia #iphone  \n",
       "1  Finally a transparant silicon case ^^ Thanks to my uncle :) #yay #Sony #Xperia #S #sonyexperias… http://instagram.com/p/YGEt5JC6JM/  \n",
       "2          We love this! Would you go? #talk #makememories #unplug #relax #iphone #smartphone #wifi #connect... http://fb.me/6N3LsUpCu  \n",
       "3                     I'm wired I know I'm George I was made that way ;) #iphone #cute #daventry #home http://instagr.am/p/Li_5_ujS4k/  \n",
       "4         What amazing service! Apple won't even talk to me about a question I have unless I pay them $19.95 for their stupid support!  "
      ]
     },
     "execution_count": 5,
     "metadata": {},
     "output_type": "execute_result"
    }
   ],
   "source": [
    "train.head()"
   ]
  },
  {
   "cell_type": "code",
   "execution_count": 6,
   "metadata": {},
   "outputs": [],
   "source": [
    "# remove URL's from train and test\n",
    "train['clean_tweet'] = train['tweet'].apply(lambda x: re.sub(r'http\\S+', '', x))\n",
    "test['clean_tweet'] = test['tweet'].apply(lambda x: re.sub(r'http\\S+', '', x))"
   ]
  },
  {
   "cell_type": "code",
   "execution_count": 7,
   "metadata": {},
   "outputs": [],
   "source": [
    "# remove punctuation marks\n",
    "punctuation = '!\"#$%&()*+-/:;<=>?@[\\\\]^_`{|}~'\n",
    "train['clean_tweet'] = train['clean_tweet'].apply(lambda x: ''.join(ch for ch in x if ch not in set(punctuation)))\n",
    "test['clean_tweet'] = test['clean_tweet'].apply(lambda x: ''.join(ch for ch in x if ch not in set(punctuation)))\n",
    "\n",
    "# convert text to lowercase\n",
    "train['clean_tweet'] = train['clean_tweet'].str.lower()\n",
    "test['clean_tweet'] = test['clean_tweet'].str.lower()\n",
    "\n",
    "# remove numbers\n",
    "train['clean_tweet'] = train['clean_tweet'].str.replace(\"[0-9]\", \" \")\n",
    "test['clean_tweet'] = test['clean_tweet'].str.replace(\"[0-9]\", \" \")\n",
    "\n",
    "# remove whitespaces\n",
    "train['clean_tweet'] = train['clean_tweet'].apply(lambda x:' '.join(x.split()))\n",
    "test['clean_tweet'] = test['clean_tweet'].apply(lambda x: ' '.join(x.split()))"
   ]
  },
  {
   "cell_type": "code",
   "execution_count": 8,
   "metadata": {},
   "outputs": [],
   "source": [
    "# import spaCy's language model\n",
    "nlp = spacy.load('en', disable=['parser', 'ner'])"
   ]
  },
  {
   "cell_type": "code",
   "execution_count": 9,
   "metadata": {},
   "outputs": [],
   "source": [
    "# function to lemmatize text\n",
    "def lemmatization(texts):\n",
    "    output = []\n",
    "    for i in texts:\n",
    "        s = [token.lemma_ for token in nlp(i)]\n",
    "        output.append(' '.join(s))\n",
    "    return output\n",
    "\n",
    "train['clean_tweet'] = lemmatization(train['clean_tweet'])\n",
    "test['clean_tweet'] = lemmatization(test['clean_tweet'])"
   ]
  },
  {
   "cell_type": "code",
   "execution_count": 10,
   "metadata": {},
   "outputs": [
    {
     "data": {
      "text/html": [
       "<div>\n",
       "<style scoped>\n",
       "    .dataframe tbody tr th:only-of-type {\n",
       "        vertical-align: middle;\n",
       "    }\n",
       "\n",
       "    .dataframe tbody tr th {\n",
       "        vertical-align: top;\n",
       "    }\n",
       "\n",
       "    .dataframe thead th {\n",
       "        text-align: right;\n",
       "    }\n",
       "</style>\n",
       "<table border=\"1\" class=\"dataframe\">\n",
       "  <thead>\n",
       "    <tr style=\"text-align: right;\">\n",
       "      <th></th>\n",
       "      <th>id</th>\n",
       "      <th>label</th>\n",
       "      <th>tweet</th>\n",
       "      <th>clean_tweet</th>\n",
       "    </tr>\n",
       "  </thead>\n",
       "  <tbody>\n",
       "    <tr>\n",
       "      <th>5218</th>\n",
       "      <td>5219</td>\n",
       "      <td>1</td>\n",
       "      <td>These two iPhone apps made me realize that my love life Sucks http://tinyurl.com/yhxyp3t #iphone</td>\n",
       "      <td>these two iphone app make -PRON- realize that -PRON- love life suck iphone</td>\n",
       "    </tr>\n",
       "    <tr>\n",
       "      <th>5088</th>\n",
       "      <td>5089</td>\n",
       "      <td>0</td>\n",
       "      <td>Don't disturb... #busy #playing #tablet #samsung #black #white #kiddos #welovethem #ig #igers… http://instagram.com/p/c-g5zOgU19/</td>\n",
       "      <td>do not disturb ... busy play tablet samsung black white kiddo welovethem ig iger …</td>\n",
       "    </tr>\n",
       "    <tr>\n",
       "      <th>5908</th>\n",
       "      <td>5909</td>\n",
       "      <td>0</td>\n",
       "      <td>#youtube#subscribe #daily #vlogs #twitch #gaming #fun #ps4 #xbox #sony #games #destiny2 #dance #destiny #hypehttps://youtu.be/AC4URjpulYA</td>\n",
       "      <td>youtubesubscribe daily vlog twitch gaming fun ps xbox sony game destiny dance destiny hype</td>\n",
       "    </tr>\n",
       "    <tr>\n",
       "      <th>6403</th>\n",
       "      <td>6404</td>\n",
       "      <td>0</td>\n",
       "      <td>I wish i had these right now #starwars #battlefront #ps4 #sony #dontjudgeme http://tmblr.co/Z0GZ8y1yGR9V3</td>\n",
       "      <td>i wish i have these right now starwar battlefront ps sony dontjudgeme</td>\n",
       "    </tr>\n",
       "    <tr>\n",
       "      <th>4083</th>\n",
       "      <td>4084</td>\n",
       "      <td>0</td>\n",
       "      <td>Coffee and cooking with mum! and #thankful making #glutenfree #apple #chutneypic.twitter.com/Y4DKMZphBj</td>\n",
       "      <td>coffee and cooking with mum and thankful make glutenfree apple chutneypic.twitter.comy dkmzphbj</td>\n",
       "    </tr>\n",
       "    <tr>\n",
       "      <th>2028</th>\n",
       "      <td>2029</td>\n",
       "      <td>1</td>\n",
       "      <td>@EconBizFin time to rebel against their constant product launches and upgrades #apple</td>\n",
       "      <td>econbizfin time to rebel against -PRON- constant product launch and upgrade apple</td>\n",
       "    </tr>\n",
       "    <tr>\n",
       "      <th>1665</th>\n",
       "      <td>1666</td>\n",
       "      <td>0</td>\n",
       "      <td>Get A #FREE #iPhone 8 From #Sprint and AT&amp;T #apple #iphone8 #bestdeal #gooddeal #bogo #att #great #tech #buy https://techinwire.com/2017/09/19/get-a-free-iphone-8-from-sprint-and-att/ …pic.twitter...</td>\n",
       "      <td>get a free iphone from sprint and att apple iphone bestdeal gooddeal bogo att great tech buy … pic.twitter.comyigifr tbg</td>\n",
       "    </tr>\n",
       "    <tr>\n",
       "      <th>4807</th>\n",
       "      <td>4808</td>\n",
       "      <td>1</td>\n",
       "      <td>Hayden's Iphone could not be updated after two fucking hours! #APPLE</td>\n",
       "      <td>hayden 's iphone could not be update after two fucking hour apple</td>\n",
       "    </tr>\n",
       "    <tr>\n",
       "      <th>1297</th>\n",
       "      <td>1298</td>\n",
       "      <td>0</td>\n",
       "      <td>We would like to wish you an amazing day! Make every minute count #tls #today #iphone #accessories #news #life October 09, 2017 at 07…</td>\n",
       "      <td>-PRON- would like to wish -PRON- an amazing day make every minute count tls today iphone accessory news life october , at …</td>\n",
       "    </tr>\n",
       "    <tr>\n",
       "      <th>7168</th>\n",
       "      <td>7169</td>\n",
       "      <td>1</td>\n",
       "      <td>The new #Facebook design is giving me migraine. Learn from #Apple, pls. Make your changes meaningful and useful to your users.</td>\n",
       "      <td>the new facebook design be give -PRON- migraine . learn from apple , pls . make -PRON- change meaningful and useful to -PRON- user .</td>\n",
       "    </tr>\n",
       "  </tbody>\n",
       "</table>\n",
       "</div>"
      ],
      "text/plain": [
       "        id  label  \\\n",
       "5218  5219      1   \n",
       "5088  5089      0   \n",
       "5908  5909      0   \n",
       "6403  6404      0   \n",
       "4083  4084      0   \n",
       "2028  2029      1   \n",
       "1665  1666      0   \n",
       "4807  4808      1   \n",
       "1297  1298      0   \n",
       "7168  7169      1   \n",
       "\n",
       "                                                                                                                                                                                                        tweet  \\\n",
       "5218                                                                                                         These two iPhone apps made me realize that my love life Sucks http://tinyurl.com/yhxyp3t #iphone   \n",
       "5088                                                                        Don't disturb... #busy #playing #tablet #samsung #black #white #kiddos #welovethem #ig #igers… http://instagram.com/p/c-g5zOgU19/   \n",
       "5908                                                                #youtube#subscribe #daily #vlogs #twitch #gaming #fun #ps4 #xbox #sony #games #destiny2 #dance #destiny #hypehttps://youtu.be/AC4URjpulYA   \n",
       "6403                                                                                                I wish i had these right now #starwars #battlefront #ps4 #sony #dontjudgeme http://tmblr.co/Z0GZ8y1yGR9V3   \n",
       "4083                                                                                                  Coffee and cooking with mum! and #thankful making #glutenfree #apple #chutneypic.twitter.com/Y4DKMZphBj   \n",
       "2028                                                                                                                    @EconBizFin time to rebel against their constant product launches and upgrades #apple   \n",
       "1665  Get A #FREE #iPhone 8 From #Sprint and AT&T #apple #iphone8 #bestdeal #gooddeal #bogo #att #great #tech #buy https://techinwire.com/2017/09/19/get-a-free-iphone-8-from-sprint-and-att/ …pic.twitter...   \n",
       "4807                                                                                                                                     Hayden's Iphone could not be updated after two fucking hours! #APPLE   \n",
       "1297                                                                   We would like to wish you an amazing day! Make every minute count #tls #today #iphone #accessories #news #life October 09, 2017 at 07…   \n",
       "7168                                                                           The new #Facebook design is giving me migraine. Learn from #Apple, pls. Make your changes meaningful and useful to your users.   \n",
       "\n",
       "                                                                                                                               clean_tweet  \n",
       "5218                                                            these two iphone app make -PRON- realize that -PRON- love life suck iphone  \n",
       "5088                                                    do not disturb ... busy play tablet samsung black white kiddo welovethem ig iger …  \n",
       "5908                                            youtubesubscribe daily vlog twitch gaming fun ps xbox sony game destiny dance destiny hype  \n",
       "6403                                                                 i wish i have these right now starwar battlefront ps sony dontjudgeme  \n",
       "4083                                       coffee and cooking with mum and thankful make glutenfree apple chutneypic.twitter.comy dkmzphbj  \n",
       "2028                                                     econbizfin time to rebel against -PRON- constant product launch and upgrade apple  \n",
       "1665              get a free iphone from sprint and att apple iphone bestdeal gooddeal bogo att great tech buy … pic.twitter.comyigifr tbg  \n",
       "4807                                                                     hayden 's iphone could not be update after two fucking hour apple  \n",
       "1297           -PRON- would like to wish -PRON- an amazing day make every minute count tls today iphone accessory news life october , at …  \n",
       "7168  the new facebook design be give -PRON- migraine . learn from apple , pls . make -PRON- change meaningful and useful to -PRON- user .  "
      ]
     },
     "execution_count": 10,
     "metadata": {},
     "output_type": "execute_result"
    }
   ],
   "source": [
    "train.sample(10)"
   ]
  },
  {
   "cell_type": "code",
   "execution_count": 11,
   "metadata": {},
   "outputs": [
    {
     "name": "stderr",
     "output_type": "stream",
     "text": [
      "C:\\ProgramData\\Anaconda3\\lib\\site-packages\\h5py\\__init__.py:36: FutureWarning: Conversion of the second argument of issubdtype from `float` to `np.floating` is deprecated. In future, it will be treated as `np.float64 == np.dtype(float).type`.\n",
      "  from ._conv import register_converters as _register_converters\n",
      "WARNING: Logging before flag parsing goes to stderr.\n",
      "W0604 21:16:43.310985 14428 __init__.py:56] Some hub symbols are not available because TensorFlow version is less than 1.14\n"
     ]
    }
   ],
   "source": [
    "import tensorflow_hub as hub\n",
    "import tensorflow as tf"
   ]
  },
  {
   "cell_type": "code",
   "execution_count": 14,
   "metadata": {},
   "outputs": [
    {
     "name": "stderr",
     "output_type": "stream",
     "text": [
      "W0604 21:24:47.860374 14428 deprecation.py:323] From C:\\ProgramData\\Anaconda3\\lib\\site-packages\\tensorflow\\python\\ops\\control_flow_ops.py:3632: colocate_with (from tensorflow.python.framework.ops) is deprecated and will be removed in a future version.\n",
      "Instructions for updating:\n",
      "Colocations handled automatically by placer.\n"
     ]
    }
   ],
   "source": [
    "elmo = hub.Module(\"https://tfhub.dev/google/elmo/2\", trainable=True)"
   ]
  },
  {
   "cell_type": "code",
   "execution_count": 15,
   "metadata": {},
   "outputs": [
    {
     "data": {
      "text/plain": [
       "TensorShape([Dimension(1), Dimension(8), Dimension(1024)])"
      ]
     },
     "execution_count": 15,
     "metadata": {},
     "output_type": "execute_result"
    }
   ],
   "source": [
    "# just a random sentence\n",
    "x = [\"Roasted ants are a popular snack in Columbia\"]\n",
    "# Extract ELMo features\n",
    "embeddings = elmo(x, signature=\"default\", as_dict=True)[\"elmo\"]\n",
    "embeddings.shape"
   ]
  },
  {
   "cell_type": "code",
   "execution_count": 18,
   "metadata": {},
   "outputs": [],
   "source": [
    "def elmo_vectors(x):\n",
    "  embeddings = elmo(x.tolist(), signature=\"default\", as_dict=True)[\"elmo\"]\n",
    "  with tf.Session() as sess:\n",
    "    sess.run(tf.global_variables_initializer())\n",
    "    sess.run(tf.tables_initializer())\n",
    "    # return average of ELMo features\n",
    "    return sess.run(tf.reduce_mean(embeddings,1))\n",
    "\n",
    "list_train = [train[i:i+100] for i in range(0,train.shape[0],100)]\n",
    "list_test = [test[i:i+100] for i in range(0,test.shape[0],100)]\n",
    "# Extract ELMo embeddings\n",
    "elmo_train = [elmo_vectors(x['clean_tweet']) for x in list_train]\n",
    "elmo_test = [elmo_vectors(x['clean_tweet']) for x in list_test]"
   ]
  },
  {
   "cell_type": "code",
   "execution_count": 19,
   "metadata": {},
   "outputs": [],
   "source": [
    "elmo_train_new = np.concatenate(elmo_train, axis = 0)\n",
    "elmo_test_new = np.concatenate(elmo_test, axis = 0)\n",
    "\n",
    "# save elmo_train_new\n",
    "pickle_out = open(\"elmo_train_03032019.pickle\",\"wb\")\n",
    "pickle.dump(elmo_train_new, pickle_out)\n",
    "pickle_out.close()\n",
    "\n",
    "# save elmo_test_new\n",
    "pickle_out = open(\"elmo_test_03032019.pickle\",\"wb\")\n",
    "pickle.dump(elmo_test_new, pickle_out)\n",
    "pickle_out.close()"
   ]
  },
  {
   "cell_type": "code",
   "execution_count": 20,
   "metadata": {},
   "outputs": [],
   "source": [
    "# load elmo_train_new\n",
    "pickle_in = open(\"elmo_train_03032019.pickle\", \"rb\")\n",
    "elmo_train_new = pickle.load(pickle_in)\n",
    "# load elmo_train_new\n",
    "pickle_in = open(\"elmo_test_03032019.pickle\", \"rb\")\n",
    "elmo_test_new = pickle.load(pickle_in)"
   ]
  },
  {
   "cell_type": "code",
   "execution_count": 21,
   "metadata": {},
   "outputs": [],
   "source": [
    "from sklearn.model_selection import train_test_split\n",
    "xtrain, xvalid, ytrain, yvalid = train_test_split(elmo_train_new, train['label'], random_state=42, test_size=0.2)"
   ]
  },
  {
   "cell_type": "code",
   "execution_count": 22,
   "metadata": {},
   "outputs": [
    {
     "data": {
      "text/plain": [
       "LogisticRegression(C=1.0, class_weight=None, dual=False, fit_intercept=True,\n",
       "          intercept_scaling=1, max_iter=100, multi_class='ovr', n_jobs=1,\n",
       "          penalty='l2', random_state=None, solver='liblinear', tol=0.0001,\n",
       "          verbose=0, warm_start=False)"
      ]
     },
     "execution_count": 22,
     "metadata": {},
     "output_type": "execute_result"
    }
   ],
   "source": [
    "from sklearn.linear_model import LogisticRegression\n",
    "from sklearn.metrics import f1_score\n",
    "\n",
    "lreg = LogisticRegression()\n",
    "lreg.fit(xtrain, ytrain)"
   ]
  },
  {
   "cell_type": "code",
   "execution_count": 23,
   "metadata": {},
   "outputs": [],
   "source": [
    "preds_valid = lreg.predict(xvalid)"
   ]
  },
  {
   "cell_type": "code",
   "execution_count": 24,
   "metadata": {},
   "outputs": [
    {
     "data": {
      "text/plain": [
       "0.7752675386444708"
      ]
     },
     "execution_count": 24,
     "metadata": {},
     "output_type": "execute_result"
    }
   ],
   "source": [
    "f1_score(yvalid, preds_valid)"
   ]
  },
  {
   "cell_type": "code",
   "execution_count": 25,
   "metadata": {},
   "outputs": [],
   "source": [
    "# make predictions on test set\n",
    "preds_test = lreg.predict(elmo_test_new)"
   ]
  },
  {
   "cell_type": "code",
   "execution_count": 26,
   "metadata": {},
   "outputs": [],
   "source": [
    "# prepare submission dataframe\n",
    "sub = pd.DataFrame({'id':test['id'], 'label':preds_test})\n",
    "\n",
    "# write predictions to a CSV file\n",
    "sub.to_csv(\"sub_lreg.csv\", index=False)"
   ]
  },
  {
   "cell_type": "code",
   "execution_count": null,
   "metadata": {},
   "outputs": [],
   "source": []
  }
 ],
 "metadata": {
  "kernelspec": {
   "display_name": "Python 3",
   "language": "python",
   "name": "python3"
  },
  "language_info": {
   "codemirror_mode": {
    "name": "ipython",
    "version": 3
   },
   "file_extension": ".py",
   "mimetype": "text/x-python",
   "name": "python",
   "nbconvert_exporter": "python",
   "pygments_lexer": "ipython3",
   "version": "3.6.4"
  }
 },
 "nbformat": 4,
 "nbformat_minor": 2
}
