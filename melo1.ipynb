{
 "cells": [
  {
   "cell_type": "code",
   "execution_count": 2,
   "metadata": {},
   "outputs": [],
   "source": [
    "import pandas as pd\n",
    "import numpy as np\n",
    "import spacy\n",
    "from tqdm import tqdm\n",
    "import re\n",
    "import time\n",
    "import pickle\n",
    "pd.set_option('display.max_colwidth', 200)"
   ]
  },
  {
   "cell_type": "code",
   "execution_count": 3,
   "metadata": {},
   "outputs": [],
   "source": [
    "# read data\n",
    "train = pd.read_csv(\"train.csv\", lineterminator='\\n')\n",
    "test = pd.read_csv(\"20190527_test.csv\", lineterminator='\\n')"
   ]
  },
  {
   "cell_type": "code",
   "execution_count": 4,
   "metadata": {},
   "outputs": [
    {
     "data": {
      "text/plain": [
       "((6331, 3), (2712, 2))"
      ]
     },
     "execution_count": 4,
     "metadata": {},
     "output_type": "execute_result"
    }
   ],
   "source": [
    "train.shape, test.shape"
   ]
  },
  {
   "cell_type": "code",
   "execution_count": 5,
   "metadata": {},
   "outputs": [
    {
     "data": {
      "text/plain": [
       "1    0.530564\n",
       "0    0.469436\n",
       "Name: label, dtype: float64"
      ]
     },
     "execution_count": 5,
     "metadata": {},
     "output_type": "execute_result"
    }
   ],
   "source": [
    "def make_label(df):\n",
    "    df[\"label\"] = df[\"label1\"].apply(lambda x: 1 if x == 'Positive' else 0)\n",
    "make_label(train)\n",
    "train['label'].value_counts(normalize = True)"
   ]
  },
  {
   "cell_type": "code",
   "execution_count": 6,
   "metadata": {},
   "outputs": [
    {
     "data": {
      "text/html": [
       "<div>\n",
       "<style scoped>\n",
       "    .dataframe tbody tr th:only-of-type {\n",
       "        vertical-align: middle;\n",
       "    }\n",
       "\n",
       "    .dataframe tbody tr th {\n",
       "        vertical-align: top;\n",
       "    }\n",
       "\n",
       "    .dataframe thead th {\n",
       "        text-align: right;\n",
       "    }\n",
       "</style>\n",
       "<table border=\"1\" class=\"dataframe\">\n",
       "  <thead>\n",
       "    <tr style=\"text-align: right;\">\n",
       "      <th></th>\n",
       "      <th>id</th>\n",
       "      <th>tweet</th>\n",
       "    </tr>\n",
       "  </thead>\n",
       "  <tbody>\n",
       "    <tr>\n",
       "      <th>0</th>\n",
       "      <td>1</td>\n",
       "      <td>masha allah ache cheez hai</td>\n",
       "    </tr>\n",
       "    <tr>\n",
       "      <th>1</th>\n",
       "      <td>2</td>\n",
       "      <td>Wazir e Mumlikat Saira Afzal K Walid Ko Shikast PTI K Mamoon Jaffar Kamyab</td>\n",
       "    </tr>\n",
       "    <tr>\n",
       "      <th>2</th>\n",
       "      <td>3</td>\n",
       "      <td>SelfieKing Ban Gia Dulha</td>\n",
       "    </tr>\n",
       "    <tr>\n",
       "      <th>3</th>\n",
       "      <td>4</td>\n",
       "      <td>Buhat he ache quality ke product hay.... i love daraz.pk</td>\n",
       "    </tr>\n",
       "    <tr>\n",
       "      <th>4</th>\n",
       "      <td>5</td>\n",
       "      <td>Hahahah :p naam letaa tu ziada ddoubt hootaa magaar yh bolkr direct attack krdia isnay :p</td>\n",
       "    </tr>\n",
       "  </tbody>\n",
       "</table>\n",
       "</div>"
      ],
      "text/plain": [
       "   id  \\\n",
       "0   1   \n",
       "1   2   \n",
       "2   3   \n",
       "3   4   \n",
       "4   5   \n",
       "\n",
       "                                                                                       tweet  \n",
       "0                                                                 masha allah ache cheez hai  \n",
       "1                 Wazir e Mumlikat Saira Afzal K Walid Ko Shikast PTI K Mamoon Jaffar Kamyab  \n",
       "2                                                                  SelfieKing Ban Gia Dulha   \n",
       "3                                   Buhat he ache quality ke product hay.... i love daraz.pk  \n",
       "4  Hahahah :p naam letaa tu ziada ddoubt hootaa magaar yh bolkr direct attack krdia isnay :p  "
      ]
     },
     "execution_count": 6,
     "metadata": {},
     "output_type": "execute_result"
    }
   ],
   "source": [
    "train.head()\n",
    "test.head()"
   ]
  },
  {
   "cell_type": "code",
   "execution_count": 7,
   "metadata": {},
   "outputs": [],
   "source": [
    "# remove URL's from train and test\n",
    "train['clean_tweet'] = train['tweet'].apply(lambda x: re.sub(r'http\\S+', '', x))\n",
    "test['clean_tweet'] = test['tweet'].apply(lambda x: re.sub(r'http\\S+', '', x))"
   ]
  },
  {
   "cell_type": "code",
   "execution_count": 8,
   "metadata": {},
   "outputs": [],
   "source": [
    "# remove punctuation marks\n",
    "punctuation = '!\"#$%&()*+-/:;<=>?@[\\\\]^_`{|}~'\n",
    "train['clean_tweet'] = train['clean_tweet'].apply(lambda x: ''.join(ch for ch in x if ch not in set(punctuation)))\n",
    "test['clean_tweet'] = test['clean_tweet'].apply(lambda x: ''.join(ch for ch in x if ch not in set(punctuation)))\n",
    "\n",
    "# convert text to lowercase\n",
    "train['clean_tweet'] = train['clean_tweet'].str.lower()\n",
    "test['clean_tweet'] = test['clean_tweet'].str.lower()\n",
    "\n",
    "# remove numbers\n",
    "train['clean_tweet'] = train['clean_tweet'].str.replace(\"[0-9]\", \" \")\n",
    "test['clean_tweet'] = test['clean_tweet'].str.replace(\"[0-9]\", \" \")\n",
    "\n",
    "# remove whitespaces\n",
    "train['clean_tweet'] = train['clean_tweet'].apply(lambda x:' '.join(x.split()))\n",
    "test['clean_tweet'] = test['clean_tweet'].apply(lambda x: ' '.join(x.split()))"
   ]
  },
  {
   "cell_type": "code",
   "execution_count": 9,
   "metadata": {},
   "outputs": [],
   "source": [
    "# import spaCy's language model\n",
    "nlp = spacy.load('en', disable=['parser', 'ner'])"
   ]
  },
  {
   "cell_type": "code",
   "execution_count": 10,
   "metadata": {},
   "outputs": [],
   "source": [
    "# function to lemmatize text\n",
    "def lemmatization(texts):\n",
    "    output = []\n",
    "    for i in texts:\n",
    "        s = [token.lemma_ for token in nlp(i)]\n",
    "        output.append(' '.join(s))\n",
    "    return output\n",
    "\n",
    "train['clean_tweet'] = lemmatization(train['clean_tweet'])\n",
    "test['clean_tweet'] = lemmatization(test['clean_tweet'])"
   ]
  },
  {
   "cell_type": "code",
   "execution_count": 11,
   "metadata": {},
   "outputs": [
    {
     "data": {
      "text/html": [
       "<div>\n",
       "<style scoped>\n",
       "    .dataframe tbody tr th:only-of-type {\n",
       "        vertical-align: middle;\n",
       "    }\n",
       "\n",
       "    .dataframe tbody tr th {\n",
       "        vertical-align: top;\n",
       "    }\n",
       "\n",
       "    .dataframe thead th {\n",
       "        text-align: right;\n",
       "    }\n",
       "</style>\n",
       "<table border=\"1\" class=\"dataframe\">\n",
       "  <thead>\n",
       "    <tr style=\"text-align: right;\">\n",
       "      <th></th>\n",
       "      <th>id</th>\n",
       "      <th>tweet</th>\n",
       "      <th>label1</th>\n",
       "      <th>label</th>\n",
       "      <th>clean_tweet</th>\n",
       "    </tr>\n",
       "  </thead>\n",
       "  <tbody>\n",
       "    <tr>\n",
       "      <th>3195</th>\n",
       "      <td>3194</td>\n",
       "      <td>khair mubarak.aur ap sb ko b EidMubarak.</td>\n",
       "      <td>Positive</td>\n",
       "      <td>1</td>\n",
       "      <td>khair mubarak.aur ap sb ko b eidmubarak .</td>\n",
       "    </tr>\n",
       "    <tr>\n",
       "      <th>1185</th>\n",
       "      <td>1186</td>\n",
       "      <td>boht acha moble hy</td>\n",
       "      <td>Positive</td>\n",
       "      <td>1</td>\n",
       "      <td>boht acha moble hy</td>\n",
       "    </tr>\n",
       "    <tr>\n",
       "      <th>118</th>\n",
       "      <td>119</td>\n",
       "      <td>Maa shaa ALLAH tasbih khane ky wazif lajawb ha.</td>\n",
       "      <td>Positive</td>\n",
       "      <td>1</td>\n",
       "      <td>maa shaa allah tasbih khane ky wazif lajawb ha .</td>\n",
       "    </tr>\n",
       "    <tr>\n",
       "      <th>2605</th>\n",
       "      <td>2604</td>\n",
       "      <td>Phr b begerat aur dheet awam inhi ko vote degi...</td>\n",
       "      <td>Negative</td>\n",
       "      <td>0</td>\n",
       "      <td>phr b begerat aur dheet awam inhi ko vote degi ...</td>\n",
       "    </tr>\n",
       "    <tr>\n",
       "      <th>4446</th>\n",
       "      <td>4445</td>\n",
       "      <td>1998 mein Karan Johar ki film “kuch kuch hota hai” saal ki behtareen film qarar pai, is film mein Salman Khan ne bator mehman adakar ke tor par kaam kiya lekin unhon ne ye mukhtasir kirdar is khub...</td>\n",
       "      <td>Positive</td>\n",
       "      <td>1</td>\n",
       "      <td>mein karan johar ki film “ kuch kuch hota hai \" saal ki behtareen film qarar pai , be film mein salman khan ne bator mehman adakar ke tor par kaam kiya lekin unhon ne ye mukhtasir kirdar be khubi ...</td>\n",
       "    </tr>\n",
       "    <tr>\n",
       "      <th>1049</th>\n",
       "      <td>1050</td>\n",
       "      <td>Main intehayi pareshan hal insan hun help me sir i need you</td>\n",
       "      <td>Negative</td>\n",
       "      <td>0</td>\n",
       "      <td>main intehayi pareshan hal insan hun help -PRON- sir i need -PRON-</td>\n",
       "    </tr>\n",
       "    <tr>\n",
       "      <th>166</th>\n",
       "      <td>167</td>\n",
       "      <td>Aap ki yehi salahiyat 1937 mein aap ko Islamia College ke magazine �EEE€�EEEcrescent�EEE€�EEE ka naib mudeer banwane meinmadadgar sabit hoi</td>\n",
       "      <td>Positive</td>\n",
       "      <td>1</td>\n",
       "      <td>aap ki yehi salahiyat mein aap ko islamia college ke magazine � eee€ � eeecrescent � eee€ � eee ka naib mudeer banwane meinmadadgar sabit hoi</td>\n",
       "    </tr>\n",
       "    <tr>\n",
       "      <th>5707</th>\n",
       "      <td>5705</td>\n",
       "      <td>Murshad da dedar hy lakh karoran hajjan</td>\n",
       "      <td>Positive</td>\n",
       "      <td>1</td>\n",
       "      <td>murshad da dedar hy lakh karoran hajjan</td>\n",
       "    </tr>\n",
       "    <tr>\n",
       "      <th>3418</th>\n",
       "      <td>3417</td>\n",
       "      <td>UNHY jinsi toor br harasa krny ki kosis nhi blky aye roz unhy harasa kea jata hy.</td>\n",
       "      <td>Negative</td>\n",
       "      <td>0</td>\n",
       "      <td>unhy jinsi toor br harasa krny ki kosis nhi blky aye roz unhy harasa kea jata hy .</td>\n",
       "    </tr>\n",
       "    <tr>\n",
       "      <th>6202</th>\n",
       "      <td>6200</td>\n",
       "      <td>Agar banned krna he tu sab ko banned kru dramo ko banned kru filmo ko banned ko not only sahil okk sab behayi he pir</td>\n",
       "      <td>Negative</td>\n",
       "      <td>0</td>\n",
       "      <td>agar ban krna -PRON- tu sab ko ban kru dramo ko ban kru filmo ko ban ko not only sahil okk sab behayi -PRON- pir</td>\n",
       "    </tr>\n",
       "  </tbody>\n",
       "</table>\n",
       "</div>"
      ],
      "text/plain": [
       "        id  \\\n",
       "3195  3194   \n",
       "1185  1186   \n",
       "118    119   \n",
       "2605  2604   \n",
       "4446  4445   \n",
       "1049  1050   \n",
       "166    167   \n",
       "5707  5705   \n",
       "3418  3417   \n",
       "6202  6200   \n",
       "\n",
       "                                                                                                                                                                                                        tweet  \\\n",
       "3195                                                                                                                                                                 khair mubarak.aur ap sb ko b EidMubarak.   \n",
       "1185                                                                                                                                                                                       boht acha moble hy   \n",
       "118                                                                                                                                                           Maa shaa ALLAH tasbih khane ky wazif lajawb ha.   \n",
       "2605                                                                                                                                                        Phr b begerat aur dheet awam inhi ko vote degi...   \n",
       "4446  1998 mein Karan Johar ki film “kuch kuch hota hai” saal ki behtareen film qarar pai, is film mein Salman Khan ne bator mehman adakar ke tor par kaam kiya lekin unhon ne ye mukhtasir kirdar is khub...   \n",
       "1049                                                                                                                                              Main intehayi pareshan hal insan hun help me sir i need you   \n",
       "166                                                               Aap ki yehi salahiyat 1937 mein aap ko Islamia College ke magazine �EEE€�EEEcrescent�EEE€�EEE ka naib mudeer banwane meinmadadgar sabit hoi   \n",
       "5707                                                                                                                                                                  Murshad da dedar hy lakh karoran hajjan   \n",
       "3418                                                                                                                        UNHY jinsi toor br harasa krny ki kosis nhi blky aye roz unhy harasa kea jata hy.   \n",
       "6202                                                                                     Agar banned krna he tu sab ko banned kru dramo ko banned kru filmo ko banned ko not only sahil okk sab behayi he pir   \n",
       "\n",
       "        label1  label  \\\n",
       "3195  Positive      1   \n",
       "1185  Positive      1   \n",
       "118   Positive      1   \n",
       "2605  Negative      0   \n",
       "4446  Positive      1   \n",
       "1049  Negative      0   \n",
       "166   Positive      1   \n",
       "5707  Positive      1   \n",
       "3418  Negative      0   \n",
       "6202  Negative      0   \n",
       "\n",
       "                                                                                                                                                                                                  clean_tweet  \n",
       "3195                                                                                                                                                                khair mubarak.aur ap sb ko b eidmubarak .  \n",
       "1185                                                                                                                                                                                       boht acha moble hy  \n",
       "118                                                                                                                                                          maa shaa allah tasbih khane ky wazif lajawb ha .  \n",
       "2605                                                                                                                                                       phr b begerat aur dheet awam inhi ko vote degi ...  \n",
       "4446  mein karan johar ki film “ kuch kuch hota hai \" saal ki behtareen film qarar pai , be film mein salman khan ne bator mehman adakar ke tor par kaam kiya lekin unhon ne ye mukhtasir kirdar be khubi ...  \n",
       "1049                                                                                                                                       main intehayi pareshan hal insan hun help -PRON- sir i need -PRON-  \n",
       "166                                                             aap ki yehi salahiyat mein aap ko islamia college ke magazine � eee€ � eeecrescent � eee€ � eee ka naib mudeer banwane meinmadadgar sabit hoi  \n",
       "5707                                                                                                                                                                  murshad da dedar hy lakh karoran hajjan  \n",
       "3418                                                                                                                       unhy jinsi toor br harasa krny ki kosis nhi blky aye roz unhy harasa kea jata hy .  \n",
       "6202                                                                                         agar ban krna -PRON- tu sab ko ban kru dramo ko ban kru filmo ko ban ko not only sahil okk sab behayi -PRON- pir  "
      ]
     },
     "execution_count": 11,
     "metadata": {},
     "output_type": "execute_result"
    }
   ],
   "source": [
    "train.sample(10)"
   ]
  },
  {
   "cell_type": "code",
   "execution_count": 12,
   "metadata": {},
   "outputs": [
    {
     "name": "stderr",
     "output_type": "stream",
     "text": [
      "C:\\ProgramData\\Anaconda3\\lib\\site-packages\\h5py\\__init__.py:36: FutureWarning: Conversion of the second argument of issubdtype from `float` to `np.floating` is deprecated. In future, it will be treated as `np.float64 == np.dtype(float).type`.\n",
      "  from ._conv import register_converters as _register_converters\n",
      "WARNING: Logging before flag parsing goes to stderr.\n",
      "W0605 15:11:00.147042  1372 __init__.py:56] Some hub symbols are not available because TensorFlow version is less than 1.14\n"
     ]
    }
   ],
   "source": [
    "import tensorflow_hub as hub\n",
    "import tensorflow as tf"
   ]
  },
  {
   "cell_type": "code",
   "execution_count": 13,
   "metadata": {},
   "outputs": [
    {
     "name": "stderr",
     "output_type": "stream",
     "text": [
      "W0605 15:11:00.669757  1372 deprecation.py:323] From C:\\ProgramData\\Anaconda3\\lib\\site-packages\\tensorflow\\python\\ops\\control_flow_ops.py:3632: colocate_with (from tensorflow.python.framework.ops) is deprecated and will be removed in a future version.\n",
      "Instructions for updating:\n",
      "Colocations handled automatically by placer.\n"
     ]
    }
   ],
   "source": [
    "elmo = hub.Module(\"https://tfhub.dev/google/elmo/2\", trainable=True)"
   ]
  },
  {
   "cell_type": "code",
   "execution_count": null,
   "metadata": {},
   "outputs": [
    {
     "data": {
      "text/plain": [
       "TensorShape([Dimension(1), Dimension(8), Dimension(1024)])"
      ]
     },
     "execution_count": 14,
     "metadata": {},
     "output_type": "execute_result"
    }
   ],
   "source": [
    "# just a random sentence\n",
    "x = [\"Roasted ants are a popular snack in Columbia\"]\n",
    "# Extract ELMo features\n",
    "embeddings = elmo(x, signature=\"default\", as_dict=True)[\"elmo\"]\n",
    "embeddings.shape"
   ]
  },
  {
   "cell_type": "code",
   "execution_count": null,
   "metadata": {},
   "outputs": [],
   "source": [
    "def elmo_vectors(x):\n",
    "  embeddings = elmo(x.tolist(), signature=\"default\", as_dict=True)[\"elmo\"]\n",
    "  with tf.Session() as sess:\n",
    "    sess.run(tf.global_variables_initializer())\n",
    "    sess.run(tf.tables_initializer())\n",
    "    # return average of ELMo features\n",
    "    return sess.run(tf.reduce_mean(embeddings,1))\n",
    "\n",
    "list_train = [train[i:i+100] for i in range(0,train.shape[0],100)]\n",
    "list_test = [test[i:i+100] for i in range(0,test.shape[0],100)]\n",
    "# Extract ELMo embeddings\n",
    "elmo_train = [elmo_vectors(x['clean_tweet']) for x in list_train]\n",
    "elmo_test = [elmo_vectors(x['clean_tweet']) for x in list_test]"
   ]
  },
  {
   "cell_type": "code",
   "execution_count": null,
   "metadata": {},
   "outputs": [],
   "source": [
    "elmo_train_new = np.concatenate(elmo_train, axis = 0)\n",
    "elmo_test_new = np.concatenate(elmo_test, axis = 0)\n",
    "\n",
    "# save elmo_train_new\n",
    "pickle_out = open(\"elmo_train_03032019.pickle\",\"wb\")\n",
    "pickle.dump(elmo_train_new, pickle_out)\n",
    "pickle_out.close()\n",
    "\n",
    "# save elmo_test_new\n",
    "pickle_out = open(\"elmo_test_03032019.pickle\",\"wb\")\n",
    "pickle.dump(elmo_test_new, pickle_out)\n",
    "pickle_out.close()"
   ]
  },
  {
   "cell_type": "code",
   "execution_count": null,
   "metadata": {},
   "outputs": [],
   "source": [
    "# load elmo_train_new\n",
    "pickle_in = open(\"elmo_train_03032019.pickle\", \"rb\")\n",
    "elmo_train_new = pickle.load(pickle_in)\n",
    "# load elmo_train_new\n",
    "pickle_in = open(\"elmo_test_03032019.pickle\", \"rb\")\n",
    "elmo_test_new = pickle.load(pickle_in)"
   ]
  },
  {
   "cell_type": "code",
   "execution_count": null,
   "metadata": {},
   "outputs": [],
   "source": [
    "from sklearn.model_selection import train_test_split\n",
    "xtrain, xvalid, ytrain, yvalid = train_test_split(elmo_train_new, train['label'], random_state=42, test_size=0.2)"
   ]
  },
  {
   "cell_type": "code",
   "execution_count": null,
   "metadata": {},
   "outputs": [],
   "source": [
    "from sklearn.linear_model import LogisticRegression\n",
    "from sklearn.metrics import f1_score\n",
    "\n",
    "lreg = LogisticRegression()\n",
    "lreg.fit(xtrain, ytrain)"
   ]
  },
  {
   "cell_type": "code",
   "execution_count": null,
   "metadata": {},
   "outputs": [],
   "source": [
    "preds_valid = lreg.predict(xvalid)"
   ]
  },
  {
   "cell_type": "code",
   "execution_count": null,
   "metadata": {},
   "outputs": [],
   "source": [
    "f1_score(yvalid, preds_valid)"
   ]
  },
  {
   "cell_type": "code",
   "execution_count": null,
   "metadata": {},
   "outputs": [],
   "source": [
    "# make predictions on test set\n",
    "preds_test = lreg.predict(elmo_test_new)"
   ]
  },
  {
   "cell_type": "code",
   "execution_count": null,
   "metadata": {},
   "outputs": [],
   "source": [
    "# prepare submission dataframe\n",
    "sub = pd.DataFrame({'id':test['id'], 'label':preds_test})\n",
    "\n",
    "# write predictions to a CSV file\n",
    "sub.to_csv(\"sub_lreg.csv\", index=False)"
   ]
  },
  {
   "cell_type": "code",
   "execution_count": null,
   "metadata": {},
   "outputs": [],
   "source": []
  }
 ],
 "metadata": {
  "kernelspec": {
   "display_name": "Python 3",
   "language": "python",
   "name": "python3"
  },
  "language_info": {
   "codemirror_mode": {
    "name": "ipython",
    "version": 3
   },
   "file_extension": ".py",
   "mimetype": "text/x-python",
   "name": "python",
   "nbconvert_exporter": "python",
   "pygments_lexer": "ipython3",
   "version": "3.6.4"
  }
 },
 "nbformat": 4,
 "nbformat_minor": 2
}
